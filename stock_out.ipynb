{
 "cells": [
  {
   "cell_type": "code",
   "execution_count": 1,
   "id": "165375b0",
   "metadata": {
    "execution": {
     "iopub.execute_input": "2021-08-12T06:27:07.094588Z",
     "iopub.status.busy": "2021-08-12T06:27:07.092600Z",
     "iopub.status.idle": "2021-08-12T06:27:07.101476Z",
     "shell.execute_reply": "2021-08-12T06:27:07.102333Z"
    },
    "papermill": {
     "duration": 0.066921,
     "end_time": "2021-08-12T06:27:07.102843",
     "exception": false,
     "start_time": "2021-08-12T06:27:07.035922",
     "status": "completed"
    },
    "tags": [
     "injected-parameters"
    ]
   },
   "outputs": [],
   "source": [
    "# Parameters\n",
    "alpha = 0.6\n",
    "ratio = 0.1\n"
   ]
  },
  {
   "cell_type": "code",
   "execution_count": 2,
   "id": "be1e28e4",
   "metadata": {
    "execution": {
     "iopub.execute_input": "2021-08-12T06:27:07.166482Z",
     "iopub.status.busy": "2021-08-12T06:27:07.164127Z",
     "iopub.status.idle": "2021-08-12T06:27:09.175495Z",
     "shell.execute_reply": "2021-08-12T06:27:09.176228Z"
    },
    "papermill": {
     "duration": 2.045581,
     "end_time": "2021-08-12T06:27:09.176475",
     "exception": false,
     "start_time": "2021-08-12T06:27:07.130894",
     "status": "completed"
    },
    "tags": []
   },
   "outputs": [],
   "source": [
    "import os\n",
    "import json\n",
    "import pandas as pd\n",
    "from pandas.io.json import json_normalize\n",
    "import requests\n",
    "from datetime import datetime\n",
    "\n",
    "from google.cloud import storage\n"
   ]
  },
  {
   "cell_type": "code",
   "execution_count": 3,
   "id": "80e5cd82",
   "metadata": {
    "execution": {
     "iopub.execute_input": "2021-08-12T06:27:09.238018Z",
     "iopub.status.busy": "2021-08-12T06:27:09.237226Z",
     "iopub.status.idle": "2021-08-12T06:27:09.241539Z",
     "shell.execute_reply": "2021-08-12T06:27:09.240907Z"
    },
    "papermill": {
     "duration": 0.039169,
     "end_time": "2021-08-12T06:27:09.241731",
     "exception": false,
     "start_time": "2021-08-12T06:27:09.202562",
     "status": "completed"
    },
    "tags": []
   },
   "outputs": [],
   "source": [
    "os.getcwd()\n",
    "os.environ['GOOGLE_APPLICATION_CREDENTIALS'] = '/c/users/leand/AirflowHome/shark-project-322205-f223d86d85bb.json'"
   ]
  },
  {
   "cell_type": "code",
   "execution_count": 4,
   "id": "7d4bec6b",
   "metadata": {
    "execution": {
     "iopub.execute_input": "2021-08-12T06:27:09.294956Z",
     "iopub.status.busy": "2021-08-12T06:27:09.294184Z",
     "iopub.status.idle": "2021-08-12T06:27:09.297593Z",
     "shell.execute_reply": "2021-08-12T06:27:09.297006Z"
    },
    "papermill": {
     "duration": 0.030693,
     "end_time": "2021-08-12T06:27:09.297771",
     "exception": false,
     "start_time": "2021-08-12T06:27:09.267078",
     "status": "completed"
    },
    "tags": []
   },
   "outputs": [],
   "source": [
    "data_json=[]"
   ]
  },
  {
   "cell_type": "code",
   "execution_count": 5,
   "id": "87d37d3d",
   "metadata": {
    "execution": {
     "iopub.execute_input": "2021-08-12T06:27:09.349624Z",
     "iopub.status.busy": "2021-08-12T06:27:09.348727Z",
     "iopub.status.idle": "2021-08-12T06:27:14.222328Z",
     "shell.execute_reply": "2021-08-12T06:27:14.220721Z"
    },
    "papermill": {
     "duration": 4.903365,
     "end_time": "2021-08-12T06:27:14.222651",
     "exception": false,
     "start_time": "2021-08-12T06:27:09.319286",
     "status": "completed"
    },
    "tags": []
   },
   "outputs": [
    {
     "name": "stderr",
     "output_type": "stream",
     "text": [
      "/tmp/ipykernel_26818/3927414560.py:6: FutureWarning: pandas.io.json.json_normalize is deprecated, use pandas.json_normalize instead\n",
      "  df = json_normalize(data_json)\n"
     ]
    }
   ],
   "source": [
    "symbols=['NFLX','MSFT','GOOGL','FB','AMZN','BABA','TSLA']\n",
    "    \n",
    "for val in symbols:\n",
    "    r = requests.get('https://finnhub.io/api/v1/news-sentiment?symbol='+str(val)+'&token=c48am02ad3icscig0me0')\n",
    "    data_json.append(r.json())\n",
    "    df = json_normalize(data_json)\n",
    "    "
   ]
  },
  {
   "cell_type": "code",
   "execution_count": 6,
   "id": "f6698bea",
   "metadata": {
    "execution": {
     "iopub.execute_input": "2021-08-12T06:27:14.310695Z",
     "iopub.status.busy": "2021-08-12T06:27:14.309207Z",
     "iopub.status.idle": "2021-08-12T06:27:14.317551Z",
     "shell.execute_reply": "2021-08-12T06:27:14.316616Z"
    },
    "papermill": {
     "duration": 0.066755,
     "end_time": "2021-08-12T06:27:14.317896",
     "exception": false,
     "start_time": "2021-08-12T06:27:14.251141",
     "status": "completed"
    },
    "tags": []
   },
   "outputs": [],
   "source": [
    "datetime.now()\n",
    "df_cols=df.iloc[:,[1,3,5,6,2,7]]\n",
    "df_cols.columns=['NewsScore','Symbol','Buzz','WeekAvgBuzz','BearSentiment','BullSentiment']\n",
    "\n",
    "df_cols=df_cols[['Symbol','NewsScore','Buzz','WeekAvgBuzz','BearSentiment','BullSentiment']]\n",
    "\n",
    "df_cols['Date']=datetime.now().strftime(\"%Y-%m-%d\")\n",
    "df_final=df_cols.sort_values(by=['BullSentiment'],ascending=False).reset_index()\n",
    "df_final=df_cols"
   ]
  },
  {
   "cell_type": "code",
   "execution_count": 7,
   "id": "ebe5006a",
   "metadata": {
    "execution": {
     "iopub.execute_input": "2021-08-12T06:27:14.388946Z",
     "iopub.status.busy": "2021-08-12T06:27:14.385866Z",
     "iopub.status.idle": "2021-08-12T06:27:14.403411Z",
     "shell.execute_reply": "2021-08-12T06:27:14.404261Z"
    },
    "papermill": {
     "duration": 0.055877,
     "end_time": "2021-08-12T06:27:14.404580",
     "exception": false,
     "start_time": "2021-08-12T06:27:14.348703",
     "status": "completed"
    },
    "tags": []
   },
   "outputs": [],
   "source": [
    "df_final.to_csv(\"/c/Users/leand/AirflowHome/dags/stocks.csv\")"
   ]
  },
  {
   "cell_type": "code",
   "execution_count": 8,
   "id": "1363595d",
   "metadata": {
    "execution": {
     "iopub.execute_input": "2021-08-12T06:27:14.483635Z",
     "iopub.status.busy": "2021-08-12T06:27:14.481651Z",
     "iopub.status.idle": "2021-08-12T06:27:14.523428Z",
     "shell.execute_reply": "2021-08-12T06:27:14.522109Z"
    },
    "papermill": {
     "duration": 0.091099,
     "end_time": "2021-08-12T06:27:14.523796",
     "exception": false,
     "start_time": "2021-08-12T06:27:14.432697",
     "status": "completed"
    },
    "tags": []
   },
   "outputs": [
    {
     "data": {
      "text/html": [
       "<div>\n",
       "<style scoped>\n",
       "    .dataframe tbody tr th:only-of-type {\n",
       "        vertical-align: middle;\n",
       "    }\n",
       "\n",
       "    .dataframe tbody tr th {\n",
       "        vertical-align: top;\n",
       "    }\n",
       "\n",
       "    .dataframe thead th {\n",
       "        text-align: right;\n",
       "    }\n",
       "</style>\n",
       "<table border=\"1\" class=\"dataframe\">\n",
       "  <thead>\n",
       "    <tr style=\"text-align: right;\">\n",
       "      <th></th>\n",
       "      <th>Symbol</th>\n",
       "      <th>NewsScore</th>\n",
       "      <th>Buzz</th>\n",
       "      <th>WeekAvgBuzz</th>\n",
       "      <th>BearSentiment</th>\n",
       "      <th>BullSentiment</th>\n",
       "      <th>Date</th>\n",
       "    </tr>\n",
       "  </thead>\n",
       "  <tbody>\n",
       "    <tr>\n",
       "      <th>0</th>\n",
       "      <td>NFLX</td>\n",
       "      <td>0.6690</td>\n",
       "      <td>0.4769</td>\n",
       "      <td>130.00</td>\n",
       "      <td>0.5495</td>\n",
       "      <td>0.0000</td>\n",
       "      <td>2021-08-12</td>\n",
       "    </tr>\n",
       "    <tr>\n",
       "      <th>1</th>\n",
       "      <td>MSFT</td>\n",
       "      <td>0.6690</td>\n",
       "      <td>0.6894</td>\n",
       "      <td>197.25</td>\n",
       "      <td>0.5495</td>\n",
       "      <td>0.1667</td>\n",
       "      <td>2021-08-12</td>\n",
       "    </tr>\n",
       "    <tr>\n",
       "      <th>2</th>\n",
       "      <td>GOOGL</td>\n",
       "      <td>0.6690</td>\n",
       "      <td>0.6353</td>\n",
       "      <td>250.25</td>\n",
       "      <td>0.5495</td>\n",
       "      <td>0.1429</td>\n",
       "      <td>2021-08-12</td>\n",
       "    </tr>\n",
       "    <tr>\n",
       "      <th>3</th>\n",
       "      <td>FB</td>\n",
       "      <td>0.6625</td>\n",
       "      <td>0.6608</td>\n",
       "      <td>230.00</td>\n",
       "      <td>0.5458</td>\n",
       "      <td>0.5218</td>\n",
       "      <td>2021-08-12</td>\n",
       "    </tr>\n",
       "    <tr>\n",
       "      <th>4</th>\n",
       "      <td>AMZN</td>\n",
       "      <td>0.6489</td>\n",
       "      <td>0.7607</td>\n",
       "      <td>336.50</td>\n",
       "      <td>0.5465</td>\n",
       "      <td>0.2188</td>\n",
       "      <td>2021-08-12</td>\n",
       "    </tr>\n",
       "    <tr>\n",
       "      <th>5</th>\n",
       "      <td>BABA</td>\n",
       "      <td>0.6519</td>\n",
       "      <td>1.1443</td>\n",
       "      <td>93.50</td>\n",
       "      <td>0.5462</td>\n",
       "      <td>0.6191</td>\n",
       "      <td>2021-08-12</td>\n",
       "    </tr>\n",
       "    <tr>\n",
       "      <th>6</th>\n",
       "      <td>TSLA</td>\n",
       "      <td>0.6561</td>\n",
       "      <td>0.6302</td>\n",
       "      <td>201.50</td>\n",
       "      <td>0.5465</td>\n",
       "      <td>0.1667</td>\n",
       "      <td>2021-08-12</td>\n",
       "    </tr>\n",
       "  </tbody>\n",
       "</table>\n",
       "</div>"
      ],
      "text/plain": [
       "  Symbol  NewsScore    Buzz  WeekAvgBuzz  BearSentiment  BullSentiment  \\\n",
       "0   NFLX     0.6690  0.4769       130.00         0.5495         0.0000   \n",
       "1   MSFT     0.6690  0.6894       197.25         0.5495         0.1667   \n",
       "2  GOOGL     0.6690  0.6353       250.25         0.5495         0.1429   \n",
       "3     FB     0.6625  0.6608       230.00         0.5458         0.5218   \n",
       "4   AMZN     0.6489  0.7607       336.50         0.5465         0.2188   \n",
       "5   BABA     0.6519  1.1443        93.50         0.5462         0.6191   \n",
       "6   TSLA     0.6561  0.6302       201.50         0.5465         0.1667   \n",
       "\n",
       "         Date  \n",
       "0  2021-08-12  \n",
       "1  2021-08-12  \n",
       "2  2021-08-12  \n",
       "3  2021-08-12  \n",
       "4  2021-08-12  \n",
       "5  2021-08-12  \n",
       "6  2021-08-12  "
      ]
     },
     "execution_count": 8,
     "metadata": {},
     "output_type": "execute_result"
    }
   ],
   "source": [
    "df_final"
   ]
  },
  {
   "cell_type": "code",
   "execution_count": 9,
   "id": "656284bf",
   "metadata": {
    "execution": {
     "iopub.execute_input": "2021-08-12T06:27:14.597642Z",
     "iopub.status.busy": "2021-08-12T06:27:14.595371Z",
     "iopub.status.idle": "2021-08-12T06:27:15.652947Z",
     "shell.execute_reply": "2021-08-12T06:27:15.653789Z"
    },
    "papermill": {
     "duration": 1.100654,
     "end_time": "2021-08-12T06:27:15.654122",
     "exception": false,
     "start_time": "2021-08-12T06:27:14.553468",
     "status": "completed"
    },
    "tags": []
   },
   "outputs": [
    {
     "name": "stdout",
     "output_type": "stream",
     "text": [
      "File /c/users/leand/AirflowHome/dags/stocks.csv uploaded to stock_data.csv.\n"
     ]
    }
   ],
   "source": [
    "def upload_blob(bucket_name, source_file_name, destination_blob_name):\n",
    "   \n",
    "    storage_client = storage.Client()\n",
    "    bucket = storage_client.bucket(bucket_name)\n",
    "    blob = bucket.blob(destination_blob_name)\n",
    "\n",
    "    blob.upload_from_filename(source_file_name)\n",
    "\n",
    "    print(\n",
    "        \"File {} uploaded to {}.\".format(\n",
    "            source_file_name, destination_blob_name\n",
    "        )\n",
    "    )\n",
    "\n",
    "\n",
    "upload_blob('stock_data_bucket1', '/c/users/leand/AirflowHome/dags/stocks.csv', 'stock_data.csv')"
   ]
  }
 ],
 "metadata": {
  "interpreter": {
   "hash": "916dbcbb3f70747c44a77c7bcd40155683ae19c65e1c03b4aa3499c5328201f1"
  },
  "kernelspec": {
   "display_name": "Python 3.8.10 64-bit",
   "name": "python3"
  },
  "language_info": {
   "codemirror_mode": {
    "name": "ipython",
    "version": 3
   },
   "file_extension": ".py",
   "mimetype": "text/x-python",
   "name": "python",
   "nbconvert_exporter": "python",
   "pygments_lexer": "ipython3",
   "version": "3.8.10"
  },
  "papermill": {
   "default_parameters": {},
   "duration": 11.969227,
   "end_time": "2021-08-12T06:27:16.221534",
   "environment_variables": {},
   "exception": null,
   "input_path": "/c/users/leand/AirflowHome/dags/stock.ipynb",
   "output_path": "/c/users/leand/AirflowHome/dags/stock_out.ipynb",
   "parameters": {
    "alpha": 0.6,
    "ratio": 0.1
   },
   "start_time": "2021-08-12T06:27:04.252307",
   "version": "2.3.3"
  }
 },
 "nbformat": 4,
 "nbformat_minor": 5
}