{
 "cells": [
  {
   "cell_type": "code",
   "execution_count": 1,
   "id": "d90e4010",
   "metadata": {
    "execution": {
     "iopub.execute_input": "2021-07-15T07:02:48.671898Z",
     "iopub.status.busy": "2021-07-15T07:02:48.669352Z",
     "iopub.status.idle": "2021-07-15T07:02:48.691847Z",
     "shell.execute_reply": "2021-07-15T07:02:48.689588Z"
    },
    "papermill": {
     "duration": 0.081137,
     "end_time": "2021-07-15T07:02:48.692327",
     "exception": false,
     "start_time": "2021-07-15T07:02:48.611190",
     "status": "completed"
    },
    "tags": [
     "injected-parameters"
    ]
   },
   "outputs": [],
   "source": [
    "# Parameters\n",
    "alpha = 0.6\n",
    "ratio = 0.1\n"
   ]
  },
  {
   "cell_type": "code",
   "execution_count": 2,
   "id": "cd487591",
   "metadata": {
    "execution": {
     "iopub.execute_input": "2021-07-15T07:02:48.755316Z",
     "iopub.status.busy": "2021-07-15T07:02:48.754097Z",
     "iopub.status.idle": "2021-07-15T07:02:50.421592Z",
     "shell.execute_reply": "2021-07-15T07:02:50.422531Z"
    },
    "papermill": {
     "duration": 1.703067,
     "end_time": "2021-07-15T07:02:50.423037",
     "exception": false,
     "start_time": "2021-07-15T07:02:48.719970",
     "status": "completed"
    },
    "tags": []
   },
   "outputs": [],
   "source": [
    "import os\n",
    "import json\n",
    "import pandas as pd\n",
    "from pandas.io.json import json_normalize\n",
    "import requests"
   ]
  },
  {
   "cell_type": "code",
   "execution_count": 3,
   "id": "a8053478",
   "metadata": {
    "execution": {
     "iopub.execute_input": "2021-07-15T07:02:50.508709Z",
     "iopub.status.busy": "2021-07-15T07:02:50.507491Z",
     "iopub.status.idle": "2021-07-15T07:02:50.516728Z",
     "shell.execute_reply": "2021-07-15T07:02:50.518547Z"
    },
    "papermill": {
     "duration": 0.066961,
     "end_time": "2021-07-15T07:02:50.519118",
     "exception": false,
     "start_time": "2021-07-15T07:02:50.452157",
     "status": "completed"
    },
    "tags": []
   },
   "outputs": [
    {
     "data": {
      "text/plain": [
       "'/mnt/c/Users/leand/AirflowHome'"
      ]
     },
     "execution_count": 3,
     "metadata": {},
     "output_type": "execute_result"
    }
   ],
   "source": [
    "os.getcwd()"
   ]
  },
  {
   "cell_type": "code",
   "execution_count": 4,
   "id": "7dcfcde4",
   "metadata": {
    "execution": {
     "iopub.execute_input": "2021-07-15T07:02:50.597102Z",
     "iopub.status.busy": "2021-07-15T07:02:50.594761Z",
     "iopub.status.idle": "2021-07-15T07:02:50.602343Z",
     "shell.execute_reply": "2021-07-15T07:02:50.601055Z"
    },
    "papermill": {
     "duration": 0.052516,
     "end_time": "2021-07-15T07:02:50.602835",
     "exception": false,
     "start_time": "2021-07-15T07:02:50.550319",
     "status": "completed"
    },
    "tags": []
   },
   "outputs": [],
   "source": [
    "data_json=[]"
   ]
  },
  {
   "cell_type": "code",
   "execution_count": 5,
   "id": "50aa6382",
   "metadata": {
    "execution": {
     "iopub.execute_input": "2021-07-15T07:02:50.687670Z",
     "iopub.status.busy": "2021-07-15T07:02:50.685987Z",
     "iopub.status.idle": "2021-07-15T07:02:55.290038Z",
     "shell.execute_reply": "2021-07-15T07:02:55.289169Z"
    },
    "papermill": {
     "duration": 4.651373,
     "end_time": "2021-07-15T07:02:55.290279",
     "exception": false,
     "start_time": "2021-07-15T07:02:50.638906",
     "status": "completed"
    },
    "tags": []
   },
   "outputs": [
    {
     "name": "stderr",
     "output_type": "stream",
     "text": [
      "/tmp/ipykernel_15980/2337967162.py:6: FutureWarning: pandas.io.json.json_normalize is deprecated, use pandas.json_normalize instead\n",
      "  df = json_normalize(data_json)\n"
     ]
    }
   ],
   "source": [
    "symbols=['NFLX','MSFT','GOOGL','FB','AMZN','BABA','TSLA']\n",
    "    \n",
    "for val in symbols:\n",
    "    r = requests.get('https://finnhub.io/api/v1/news-sentiment?symbol='+str(val)+'&token=bvv9c7f48v6r5v93tap0')\n",
    "    data_json.append(r.json())\n",
    "    df = json_normalize(data_json)\n",
    "    "
   ]
  },
  {
   "cell_type": "code",
   "execution_count": 6,
   "id": "811805f8",
   "metadata": {
    "execution": {
     "iopub.execute_input": "2021-07-15T07:02:55.405209Z",
     "iopub.status.busy": "2021-07-15T07:02:55.404065Z",
     "iopub.status.idle": "2021-07-15T07:02:55.408038Z",
     "shell.execute_reply": "2021-07-15T07:02:55.407268Z"
    },
    "papermill": {
     "duration": 0.072626,
     "end_time": "2021-07-15T07:02:55.408266",
     "exception": false,
     "start_time": "2021-07-15T07:02:55.335640",
     "status": "completed"
    },
    "tags": []
   },
   "outputs": [],
   "source": [
    "\n",
    "df_cols=df.iloc[:,[1,3,5,6,2,7]]\n",
    "df_cols.columns=['NewsScore','Symbol','Buzz','WeekAvgBuzz','BearSentiment','BullSentiment']\n",
    "df_cols=df_cols[['Symbol','NewsScore','Buzz','WeekAvgBuzz','BearSentiment','BullSentiment']]\n",
    "df_final=df_cols.sort_values(by=['BullSentiment'],ascending=False).reset_index()"
   ]
  },
  {
   "cell_type": "code",
   "execution_count": 7,
   "id": "c2222108",
   "metadata": {
    "execution": {
     "iopub.execute_input": "2021-07-15T07:02:55.482463Z",
     "iopub.status.busy": "2021-07-15T07:02:55.479571Z",
     "iopub.status.idle": "2021-07-15T07:02:55.496602Z",
     "shell.execute_reply": "2021-07-15T07:02:55.498615Z"
    },
    "papermill": {
     "duration": 0.057156,
     "end_time": "2021-07-15T07:02:55.499130",
     "exception": false,
     "start_time": "2021-07-15T07:02:55.441974",
     "status": "completed"
    },
    "tags": []
   },
   "outputs": [],
   "source": [
    "df_final.to_csv(\"/mnt/c/Users/leand/AirflowHome/dags/stocks.csv\")"
   ]
  },
  {
   "cell_type": "code",
   "execution_count": null,
   "id": "951c75c3",
   "metadata": {
    "papermill": {
     "duration": 0.034278,
     "end_time": "2021-07-15T07:02:55.566035",
     "exception": false,
     "start_time": "2021-07-15T07:02:55.531757",
     "status": "completed"
    },
    "tags": []
   },
   "outputs": [],
   "source": []
  }
 ],
 "metadata": {
  "interpreter": {
   "hash": "31f2aee4e71d21fbe5cf8b01ff0e069b9275f58929596ceb00d14d90e3e16cd6"
  },
  "kernelspec": {
   "display_name": "Python 3.8.10 64-bit",
   "name": "python3"
  },
  "language_info": {
   "codemirror_mode": {
    "name": "ipython",
    "version": 3
   },
   "file_extension": ".py",
   "mimetype": "text/x-python",
   "name": "python",
   "nbconvert_exporter": "python",
   "pygments_lexer": "ipython3",
   "version": "3.8.10"
  },
  "papermill": {
   "default_parameters": {},
   "duration": 11.288854,
   "end_time": "2021-07-15T07:02:56.724354",
   "environment_variables": {},
   "exception": null,
   "input_path": "/mnt/c/users/leand/AirflowHome/dags/stock.ipynb",
   "output_path": "/mnt/c/users/leand/AirflowHome/dags/stock_out.ipynb",
   "parameters": {
    "alpha": 0.6,
    "ratio": 0.1
   },
   "start_time": "2021-07-15T07:02:45.435500",
   "version": "2.3.3"
  }
 },
 "nbformat": 4,
 "nbformat_minor": 5
}