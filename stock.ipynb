{
 "metadata": {
  "language_info": {
   "codemirror_mode": {
    "name": "ipython",
    "version": 3
   },
   "file_extension": ".py",
   "mimetype": "text/x-python",
   "name": "python",
   "nbconvert_exporter": "python",
   "pygments_lexer": "ipython3",
   "version": "3.8.10"
  },
  "orig_nbformat": 4,
  "kernelspec": {
   "name": "python3",
   "display_name": "Python 3.8.10 64-bit"
  },
  "interpreter": {
   "hash": "31f2aee4e71d21fbe5cf8b01ff0e069b9275f58929596ceb00d14d90e3e16cd6"
  }
 },
 "nbformat": 4,
 "nbformat_minor": 2,
 "cells": [
  {
   "cell_type": "code",
   "execution_count": 12,
   "metadata": {},
   "outputs": [],
   "source": [
    "import os\n",
    "import json\n",
    "import pandas as pd\n",
    "from pandas.io.json import json_normalize\n",
    "import requests"
   ]
  },
  {
   "cell_type": "code",
   "execution_count": 13,
   "metadata": {},
   "outputs": [
    {
     "output_type": "execute_result",
     "data": {
      "text/plain": [
       "'/mnt/c/Users/leand/AirflowHome/dags'"
      ]
     },
     "metadata": {},
     "execution_count": 13
    }
   ],
   "source": [
    "os.getcwd()"
   ]
  },
  {
   "cell_type": "code",
   "execution_count": 14,
   "metadata": {},
   "outputs": [],
   "source": [
    "data_json=[]"
   ]
  },
  {
   "cell_type": "code",
   "execution_count": 15,
   "metadata": {},
   "outputs": [
    {
     "output_type": "stream",
     "name": "stderr",
     "text": [
      "/tmp/ipykernel_10530/1160352547.py:6: FutureWarning: pandas.io.json.json_normalize is deprecated, use pandas.json_normalize instead\n  df = json_normalize(data_json)\n"
     ]
    }
   ],
   "source": [
    "symbols=['NFLX','MSFT','GOOGL','FB','AMZN','BABA','TSLA']\n",
    "    \n",
    "for val in symbols:\n",
    "    r = requests.get('https://finnhub.io/api/v1/news-sentiment?symbol='+str(val)+'&token=bvv9c7f48v6r5v93tap0')\n",
    "    data_json.append(r.json())\n",
    "    df = json_normalize(data_json)\n",
    "    "
   ]
  },
  {
   "cell_type": "code",
   "execution_count": 16,
   "metadata": {},
   "outputs": [],
   "source": [
    "\n",
    "df_cols=df.iloc[:,[1,3,5,6,2,7]]\n",
    "df_cols.columns=['NewsScore','Symbol','Buzz','WeekAvgBuzz','BearSentiment','BullSentiment']\n",
    "df_cols=df_cols[['Symbol','NewsScore','Buzz','WeekAvgBuzz','BearSentiment','BullSentiment']]\n",
    "df_final=df_cols.sort_values(by=['BullSentiment'],ascending=False).reset_index()"
   ]
  },
  {
   "cell_type": "code",
   "execution_count": 17,
   "metadata": {},
   "outputs": [
    {
     "output_type": "execute_result",
     "data": {
      "text/plain": [
       "   index Symbol  NewsScore    Buzz  WeekAvgBuzz  BearSentiment  BullSentiment\n",
       "0      3     FB     0.6642  0.8300       192.75         0.5315         0.5883\n",
       "1      6   TSLA     0.6544  0.7816       195.75         0.5465         0.5000\n",
       "2      2  GOOGL     0.6642  0.7189       239.25         0.5315         0.2667\n",
       "3      4   AMZN     0.6544  0.8327       342.25         0.5465         0.2381\n",
       "4      5   BABA     0.6544  1.0000        71.00         0.5465         0.1250\n",
       "5      1   MSFT     0.6642  0.7881       168.75         0.5315         0.1053\n",
       "6      0   NFLX     0.6412  0.9813        80.50         0.5311         0.0910"
      ],
      "text/html": "<div>\n<style scoped>\n    .dataframe tbody tr th:only-of-type {\n        vertical-align: middle;\n    }\n\n    .dataframe tbody tr th {\n        vertical-align: top;\n    }\n\n    .dataframe thead th {\n        text-align: right;\n    }\n</style>\n<table border=\"1\" class=\"dataframe\">\n  <thead>\n    <tr style=\"text-align: right;\">\n      <th></th>\n      <th>index</th>\n      <th>Symbol</th>\n      <th>NewsScore</th>\n      <th>Buzz</th>\n      <th>WeekAvgBuzz</th>\n      <th>BearSentiment</th>\n      <th>BullSentiment</th>\n    </tr>\n  </thead>\n  <tbody>\n    <tr>\n      <th>0</th>\n      <td>3</td>\n      <td>FB</td>\n      <td>0.6642</td>\n      <td>0.8300</td>\n      <td>192.75</td>\n      <td>0.5315</td>\n      <td>0.5883</td>\n    </tr>\n    <tr>\n      <th>1</th>\n      <td>6</td>\n      <td>TSLA</td>\n      <td>0.6544</td>\n      <td>0.7816</td>\n      <td>195.75</td>\n      <td>0.5465</td>\n      <td>0.5000</td>\n    </tr>\n    <tr>\n      <th>2</th>\n      <td>2</td>\n      <td>GOOGL</td>\n      <td>0.6642</td>\n      <td>0.7189</td>\n      <td>239.25</td>\n      <td>0.5315</td>\n      <td>0.2667</td>\n    </tr>\n    <tr>\n      <th>3</th>\n      <td>4</td>\n      <td>AMZN</td>\n      <td>0.6544</td>\n      <td>0.8327</td>\n      <td>342.25</td>\n      <td>0.5465</td>\n      <td>0.2381</td>\n    </tr>\n    <tr>\n      <th>4</th>\n      <td>5</td>\n      <td>BABA</td>\n      <td>0.6544</td>\n      <td>1.0000</td>\n      <td>71.00</td>\n      <td>0.5465</td>\n      <td>0.1250</td>\n    </tr>\n    <tr>\n      <th>5</th>\n      <td>1</td>\n      <td>MSFT</td>\n      <td>0.6642</td>\n      <td>0.7881</td>\n      <td>168.75</td>\n      <td>0.5315</td>\n      <td>0.1053</td>\n    </tr>\n    <tr>\n      <th>6</th>\n      <td>0</td>\n      <td>NFLX</td>\n      <td>0.6412</td>\n      <td>0.9813</td>\n      <td>80.50</td>\n      <td>0.5311</td>\n      <td>0.0910</td>\n    </tr>\n  </tbody>\n</table>\n</div>"
     },
     "metadata": {},
     "execution_count": 17
    }
   ],
   "source": [
    "df_final.to_csv(\"/mnt/c/Users/leand/AirflowHome/dags/stocks.csv\")"
   ]
  },
  {
   "cell_type": "code",
   "execution_count": null,
   "metadata": {},
   "outputs": [],
   "source": []
  }
 ]
}