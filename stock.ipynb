{
 "metadata": {
  "language_info": {
   "codemirror_mode": {
    "name": "ipython",
    "version": 3
   },
   "file_extension": ".py",
   "mimetype": "text/x-python",
   "name": "python",
   "nbconvert_exporter": "python",
   "pygments_lexer": "ipython3",
   "version": "3.8.10"
  },
  "orig_nbformat": 4,
  "kernelspec": {
   "name": "python3",
   "display_name": "Python 3.8.10 64-bit"
  },
  "interpreter": {
   "hash": "916dbcbb3f70747c44a77c7bcd40155683ae19c65e1c03b4aa3499c5328201f1"
  }
 },
 "nbformat": 4,
 "nbformat_minor": 2,
 "cells": [
  {
   "cell_type": "code",
   "execution_count": 25,
   "source": [
    "import os\n",
    "import json\n",
    "import pandas as pd\n",
    "from pandas.io.json import json_normalize\n",
    "import requests\n",
    "from datetime import datetime\n",
    "\n",
    "from google.cloud import storage\n"
   ],
   "outputs": [],
   "metadata": {}
  },
  {
   "cell_type": "code",
   "execution_count": 26,
   "source": [
    "os.getcwd()\n",
    "os.environ['GOOGLE_APPLICATION_CREDENTIALS'] = '/c/users/leand/AirflowHome/shark-project-322205-f223d86d85bb.json'"
   ],
   "outputs": [],
   "metadata": {}
  },
  {
   "cell_type": "code",
   "execution_count": 27,
   "source": [
    "data_json=[]"
   ],
   "outputs": [],
   "metadata": {}
  },
  {
   "cell_type": "code",
   "execution_count": 28,
   "source": [
    "symbols=['NFLX','MSFT','GOOGL','FB','AMZN','BABA','TSLA']\n",
    "    \n",
    "for val in symbols:\n",
    "    r = requests.get('https://finnhub.io/api/v1/news-sentiment?symbol='+str(val)+'&token=c48am02ad3icscig0me0')\n",
    "    data_json.append(r.json())\n",
    "    df = json_normalize(data_json)\n",
    "    "
   ],
   "outputs": [
    {
     "output_type": "stream",
     "name": "stderr",
     "text": [
      "/tmp/ipykernel_19426/3927414560.py:6: FutureWarning: pandas.io.json.json_normalize is deprecated, use pandas.json_normalize instead\n",
      "  df = json_normalize(data_json)\n"
     ]
    }
   ],
   "metadata": {}
  },
  {
   "cell_type": "code",
   "execution_count": 29,
   "source": [
    "\n",
    "df_cols=df.iloc[:,[1,3,5,6,2,7]]\n",
    "df_cols.columns=['NewsScore','Symbol','Buzz','WeekAvgBuzz','BearSentiment','BullSentiment']\n",
    "\n",
    "df_cols=df_cols[['Symbol','NewsScore','Buzz','WeekAvgBuzz','BearSentiment','BullSentiment']]\n",
    "\n",
    "df_cols['Date']=datetime.now().strftime(\"%Y-%m-%d\")\n",
    "df_final=df_cols.sort_values(by=['BullSentiment'],ascending=False).reset_index()\n",
    "df_final=df_cols"
   ],
   "outputs": [],
   "metadata": {}
  },
  {
   "cell_type": "code",
   "execution_count": 30,
   "source": [
    "df_final.to_csv(\"/c/Users/leand/AirflowHome/dags/stocks.csv\")"
   ],
   "outputs": [],
   "metadata": {}
  },
  {
   "cell_type": "code",
   "execution_count": 31,
   "source": [
    "df_final"
   ],
   "outputs": [
    {
     "output_type": "execute_result",
     "data": {
      "text/plain": [
       "  Symbol  NewsScore    Buzz  WeekAvgBuzz  BearSentiment  BullSentiment  \\\n",
       "0   NFLX     0.6690  0.4769       130.00         0.5495         0.0000   \n",
       "1   MSFT     0.6690  0.6894       197.25         0.5495         0.1667   \n",
       "2  GOOGL     0.6690  0.6353       250.25         0.5495         0.1429   \n",
       "3     FB     0.6625  0.6608       230.00         0.5458         0.5218   \n",
       "4   AMZN     0.6489  0.7607       336.50         0.5465         0.2188   \n",
       "5   BABA     0.6519  1.1443        93.50         0.5462         0.6191   \n",
       "6   TSLA     0.6561  0.6302       201.50         0.5465         0.1667   \n",
       "\n",
       "         Date  \n",
       "0  2021-08-12  \n",
       "1  2021-08-12  \n",
       "2  2021-08-12  \n",
       "3  2021-08-12  \n",
       "4  2021-08-12  \n",
       "5  2021-08-12  \n",
       "6  2021-08-12  "
      ],
      "text/html": [
       "<div>\n",
       "<style scoped>\n",
       "    .dataframe tbody tr th:only-of-type {\n",
       "        vertical-align: middle;\n",
       "    }\n",
       "\n",
       "    .dataframe tbody tr th {\n",
       "        vertical-align: top;\n",
       "    }\n",
       "\n",
       "    .dataframe thead th {\n",
       "        text-align: right;\n",
       "    }\n",
       "</style>\n",
       "<table border=\"1\" class=\"dataframe\">\n",
       "  <thead>\n",
       "    <tr style=\"text-align: right;\">\n",
       "      <th></th>\n",
       "      <th>Symbol</th>\n",
       "      <th>NewsScore</th>\n",
       "      <th>Buzz</th>\n",
       "      <th>WeekAvgBuzz</th>\n",
       "      <th>BearSentiment</th>\n",
       "      <th>BullSentiment</th>\n",
       "      <th>Date</th>\n",
       "    </tr>\n",
       "  </thead>\n",
       "  <tbody>\n",
       "    <tr>\n",
       "      <th>0</th>\n",
       "      <td>NFLX</td>\n",
       "      <td>0.6690</td>\n",
       "      <td>0.4769</td>\n",
       "      <td>130.00</td>\n",
       "      <td>0.5495</td>\n",
       "      <td>0.0000</td>\n",
       "      <td>2021-08-12</td>\n",
       "    </tr>\n",
       "    <tr>\n",
       "      <th>1</th>\n",
       "      <td>MSFT</td>\n",
       "      <td>0.6690</td>\n",
       "      <td>0.6894</td>\n",
       "      <td>197.25</td>\n",
       "      <td>0.5495</td>\n",
       "      <td>0.1667</td>\n",
       "      <td>2021-08-12</td>\n",
       "    </tr>\n",
       "    <tr>\n",
       "      <th>2</th>\n",
       "      <td>GOOGL</td>\n",
       "      <td>0.6690</td>\n",
       "      <td>0.6353</td>\n",
       "      <td>250.25</td>\n",
       "      <td>0.5495</td>\n",
       "      <td>0.1429</td>\n",
       "      <td>2021-08-12</td>\n",
       "    </tr>\n",
       "    <tr>\n",
       "      <th>3</th>\n",
       "      <td>FB</td>\n",
       "      <td>0.6625</td>\n",
       "      <td>0.6608</td>\n",
       "      <td>230.00</td>\n",
       "      <td>0.5458</td>\n",
       "      <td>0.5218</td>\n",
       "      <td>2021-08-12</td>\n",
       "    </tr>\n",
       "    <tr>\n",
       "      <th>4</th>\n",
       "      <td>AMZN</td>\n",
       "      <td>0.6489</td>\n",
       "      <td>0.7607</td>\n",
       "      <td>336.50</td>\n",
       "      <td>0.5465</td>\n",
       "      <td>0.2188</td>\n",
       "      <td>2021-08-12</td>\n",
       "    </tr>\n",
       "    <tr>\n",
       "      <th>5</th>\n",
       "      <td>BABA</td>\n",
       "      <td>0.6519</td>\n",
       "      <td>1.1443</td>\n",
       "      <td>93.50</td>\n",
       "      <td>0.5462</td>\n",
       "      <td>0.6191</td>\n",
       "      <td>2021-08-12</td>\n",
       "    </tr>\n",
       "    <tr>\n",
       "      <th>6</th>\n",
       "      <td>TSLA</td>\n",
       "      <td>0.6561</td>\n",
       "      <td>0.6302</td>\n",
       "      <td>201.50</td>\n",
       "      <td>0.5465</td>\n",
       "      <td>0.1667</td>\n",
       "      <td>2021-08-12</td>\n",
       "    </tr>\n",
       "  </tbody>\n",
       "</table>\n",
       "</div>"
      ]
     },
     "metadata": {},
     "execution_count": 31
    }
   ],
   "metadata": {}
  },
  {
   "cell_type": "code",
   "execution_count": 32,
   "source": [
    "def upload_blob(bucket_name, source_file_name, destination_blob_name):\n",
    "   \n",
    "    storage_client = storage.Client()\n",
    "    bucket = storage_client.bucket(bucket_name)\n",
    "    blob = bucket.blob(destination_blob_name)\n",
    "\n",
    "    blob.upload_from_filename(source_file_name)\n",
    "\n",
    "    print(\n",
    "        \"File {} uploaded to {}.\".format(\n",
    "            source_file_name, destination_blob_name\n",
    "        )\n",
    "    )\n",
    "\n",
    "\n",
    "upload_blob('stock_data_bucket1', '/c/users/leand/AirflowHome/dags/stocks.csv', 'stock_data.csv')"
   ],
   "outputs": [
    {
     "output_type": "stream",
     "name": "stdout",
     "text": [
      "File /c/users/leand/AirflowHome/dags/stocks.csv uploaded to stock_data.csv.\n"
     ]
    }
   ],
   "metadata": {}
  }
 ]
}